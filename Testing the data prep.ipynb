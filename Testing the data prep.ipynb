{
 "cells": [
  {
   "cell_type": "code",
   "execution_count": 49,
   "metadata": {},
   "outputs": [
    {
     "name": "stdout",
     "output_type": "stream",
     "text": [
      "The autoreload extension is already loaded. To reload it, use:\n",
      "  %reload_ext autoreload\n"
     ]
    }
   ],
   "source": [
    "import numpy as np\n",
    "import pandas as pd\n",
    "import cv2\n",
    "import os\n",
    "import matplotlib.pyplot as plt\n",
    "import csv\n",
    "from data_prep import prepare_dataset\n",
    "from tqdm import tqdm\n",
    "%load_ext autoreload\n",
    "%autoreload 2\n",
    "%matplotlib inline"
   ]
  },
  {
   "cell_type": "code",
   "execution_count": 35,
   "metadata": {},
   "outputs": [],
   "source": [
    "if '__file__' not in globals():\n",
    "    CURRENT_DIR = os.getcwd()\n",
    "else:\n",
    "    CURRENT_DIR = os.path.dirname(os.path.realpath(__file__))\n",
    "DATA_PATH =  os.path.join(CURRENT_DIR, 'data')\n",
    "SHORT_TRAIN_VIDEO = os.path.join(DATA_PATH, 'short-train.mp4')\n",
    "PREPARED_DATA_PATH = os.path.join(DATA_PATH, 'prepared-data')\n",
    "PREPARED_IMGS_SHORT_TRAIN = os.path.join(PREPARED_DATA_PATH, 'short-train_imgs')\n",
    "FLOW_IMGS_SHORT_TRAIN = os.path.join(PREPARED_DATA_PATH, 'flow_short-train_imgs')\n",
    "\n",
    "SIZE = (150, 150)"
   ]
  },
  {
   "cell_type": "code",
   "execution_count": 36,
   "metadata": {},
   "outputs": [],
   "source": [
    "speeds_train = list(pd.read_csv(os.path.join(DATA_PATH, 'train.txt'), header=None, squeeze=True))"
   ]
  },
  {
   "cell_type": "code",
   "execution_count": 42,
   "metadata": {},
   "outputs": [
    {
     "name": "stderr",
     "output_type": "stream",
     "text": [
      "\r",
      "  0%|          | 0/42 [00:00<?, ?it/s]"
     ]
    },
    {
     "name": "stdout",
     "output_type": "stream",
     "text": [
      "Reading the video file\n"
     ]
    },
    {
     "name": "stderr",
     "output_type": "stream",
     "text": [
      "100%|██████████| 42/42 [00:01<00:00, 25.81it/s]\n",
      " 15%|█▍        | 6/41 [00:00<00:00, 57.66it/s]"
     ]
    },
    {
     "name": "stdout",
     "output_type": "stream",
     "text": [
      "Saving the dataframe\n"
     ]
    },
    {
     "name": "stderr",
     "output_type": "stream",
     "text": [
      "100%|██████████| 41/41 [00:00<00:00, 56.24it/s]"
     ]
    },
    {
     "name": "stdout",
     "output_type": "stream",
     "text": [
      "Saving the flow dataframe\n"
     ]
    },
    {
     "name": "stderr",
     "output_type": "stream",
     "text": [
      "\n"
     ]
    }
   ],
   "source": [
    "prepare_dataset(SHORT_TRAIN_VIDEO, PREPARED_IMGS_SHORT_TRAIN, FLOW_IMGS_SHORT_TRAIN, 'short-train', speeds_train)"
   ]
  },
  {
   "cell_type": "code",
   "execution_count": 43,
   "metadata": {},
   "outputs": [],
   "source": [
    "flow_train_meta = pd.read_csv(os.path.join(PREPARED_DATA_PATH, 'short-train_flow_meta.csv'))"
   ]
  },
  {
   "cell_type": "code",
   "execution_count": 44,
   "metadata": {},
   "outputs": [
    {
     "data": {
      "text/html": [
       "<div>\n",
       "<style scoped>\n",
       "    .dataframe tbody tr th:only-of-type {\n",
       "        vertical-align: middle;\n",
       "    }\n",
       "\n",
       "    .dataframe tbody tr th {\n",
       "        vertical-align: top;\n",
       "    }\n",
       "\n",
       "    .dataframe thead th {\n",
       "        text-align: right;\n",
       "    }\n",
       "</style>\n",
       "<table border=\"1\" class=\"dataframe\">\n",
       "  <thead>\n",
       "    <tr style=\"text-align: right;\">\n",
       "      <th></th>\n",
       "      <th>flow_path</th>\n",
       "      <th>speed</th>\n",
       "    </tr>\n",
       "  </thead>\n",
       "  <tbody>\n",
       "    <tr>\n",
       "      <th>0</th>\n",
       "      <td>/Users/justinglibert/Dev/repositories/personal...</td>\n",
       "      <td>28.105569</td>\n",
       "    </tr>\n",
       "    <tr>\n",
       "      <th>1</th>\n",
       "      <td>/Users/justinglibert/Dev/repositories/personal...</td>\n",
       "      <td>28.106048</td>\n",
       "    </tr>\n",
       "    <tr>\n",
       "      <th>2</th>\n",
       "      <td>/Users/justinglibert/Dev/repositories/personal...</td>\n",
       "      <td>28.118466</td>\n",
       "    </tr>\n",
       "    <tr>\n",
       "      <th>3</th>\n",
       "      <td>/Users/justinglibert/Dev/repositories/personal...</td>\n",
       "      <td>28.119823</td>\n",
       "    </tr>\n",
       "    <tr>\n",
       "      <th>4</th>\n",
       "      <td>/Users/justinglibert/Dev/repositories/personal...</td>\n",
       "      <td>28.098907</td>\n",
       "    </tr>\n",
       "  </tbody>\n",
       "</table>\n",
       "</div>"
      ],
      "text/plain": [
       "                                           flow_path      speed\n",
       "0  /Users/justinglibert/Dev/repositories/personal...  28.105569\n",
       "1  /Users/justinglibert/Dev/repositories/personal...  28.106048\n",
       "2  /Users/justinglibert/Dev/repositories/personal...  28.118466\n",
       "3  /Users/justinglibert/Dev/repositories/personal...  28.119823\n",
       "4  /Users/justinglibert/Dev/repositories/personal...  28.098907"
      ]
     },
     "execution_count": 44,
     "metadata": {},
     "output_type": "execute_result"
    }
   ],
   "source": [
    "flow_train_meta.head()"
   ]
  },
  {
   "cell_type": "code",
   "execution_count": 45,
   "metadata": {},
   "outputs": [],
   "source": [
    "flow1 = flow_train_meta.iloc[[0]]\n",
    "flow2 = flow_train_meta.iloc[[1]]"
   ]
  },
  {
   "cell_type": "code",
   "execution_count": 46,
   "metadata": {},
   "outputs": [
    {
     "name": "stdout",
     "output_type": "stream",
     "text": [
      "/Users/justinglibert/Dev/repositories/personal/speed-challenge/data/prepared-data/flow_short-train_imgs/0.jpg\n",
      "/Users/justinglibert/Dev/repositories/personal/speed-challenge/data/prepared-data/flow_short-train_imgs/1.jpg\n"
     ]
    }
   ],
   "source": [
    "flow1_path = flow1['flow_path'].values[0]\n",
    "flow2_path = flow2['flow_path'].values[0]\n",
    "print(flow1_path)\n",
    "print(flow2_path)"
   ]
  },
  {
   "cell_type": "code",
   "execution_count": 50,
   "metadata": {},
   "outputs": [],
   "source": [
    "flow1image = cv2.imread(flow1_path)\n",
    "flow1speed = flow1['speed'].values[0]\n",
    "flow2image = cv2.imread(flow2_path)\n",
    "flow2speed = flow2['speed'].values[0]"
   ]
  },
  {
   "cell_type": "code",
   "execution_count": 54,
   "metadata": {},
   "outputs": [
    {
     "name": "stdout",
     "output_type": "stream",
     "text": [
      "28.105569\n",
      "112\n",
      "0\n"
     ]
    },
    {
     "data": {
      "image/png": "[encoded data removed]",
      "text/plain": [
       "<Figure size 432x288 with 1 Axes>"
      ]
     },
     "metadata": {
      "needs_background": "light"
     },
     "output_type": "display_data"
    },
    {
     "name": "stdout",
     "output_type": "stream",
     "text": [
      "28.106047999999998\n"
     ]
    },
    {
     "data": {
      "image/png": "[encoded data removed]",
      "text/plain": [
       "<Figure size 432x288 with 1 Axes>"
      ]
     },
     "metadata": {
      "needs_background": "light"
     },
     "output_type": "display_data"
    }
   ],
   "source": [
    "print(flow1speed)\n",
    "plt.imshow(flow1image)\n",
    "print(np.max(flow1image))\n",
    "print(np.min(flow1image))\n",
    "plt.show()\n",
    "\n",
    "print(flow2speed)\n",
    "plt.imshow(flow2image)\n",
    "plt.show()"
   ]
  },
  {
   "cell_type": "code",
   "execution_count": null,
   "metadata": {},
   "outputs": [],
   "source": []
  }
 ],
 "metadata": {
  "kernelspec": {
   "display_name": "Python 2",
   "language": "python",
   "name": "python2"
  },
  "language_info": {
   "codemirror_mode": {
    "name": "ipython",
    "version": 2
   },
   "file_extension": ".py",
   "mimetype": "text/x-python",
   "name": "python",
   "nbconvert_exporter": "python",
   "pygments_lexer": "ipython2",
   "version": "2.7.12"
  }
 },
 "nbformat": 4,
 "nbformat_minor": 2
}
