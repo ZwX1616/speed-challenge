{
 "cells": [
  {
   "cell_type": "code",
   "execution_count": 1,
   "metadata": {},
   "outputs": [
    {
     "name": "stderr",
     "output_type": "stream",
     "text": [
      "Using TensorFlow backend.\n"
     ]
    }
   ],
   "source": [
    "import numpy as np\n",
    "import tensorflow as tf\n",
    "import cv2\n",
    "from tqdm import tqdm\n",
    "import processing\n",
    "import argparse\n",
    "from model import build_model\n",
    "import os\n",
    "import pandas as pd\n",
    "import pickle\n",
    "import h5py\n",
    "from keras.preprocessing.image import ImageDataGenerator\n",
    "from keras.callbacks import EarlyStopping, ModelCheckpoint, TensorBoard\n",
    "import keras.backend.tensorflow_backend as KTF"
   ]
  },
  {
   "cell_type": "code",
   "execution_count": 3,
   "metadata": {},
   "outputs": [],
   "source": [
    "if '__file__' not in globals():\n",
    "    CURRENT_DIR = os.getcwd()\n",
    "else:\n",
    "    CURRENT_DIR = os.path.dirname(os.path.realpath(__file__))"
   ]
  },
  {
   "cell_type": "code",
   "execution_count": 4,
   "metadata": {},
   "outputs": [
    {
     "name": "stdout",
     "output_type": "stream",
     "text": [
      "/home/ubuntu/repositories/speed-challenge\n"
     ]
    }
   ],
   "source": [
    "print(CURRENT_DIR)"
   ]
  },
  {
   "cell_type": "code",
   "execution_count": 17,
   "metadata": {},
   "outputs": [],
   "source": [
    "MINI_BATCH_SIZE = 16\n",
    "EPOCHS = 50\n",
    "VERSION = 2\n",
    "\n",
    "SIZE = (100, 100)\n",
    "CHANNEL = 2\n",
    "WIDTH = SIZE[0]\n",
    "HEIGHT = SIZE[1]\n",
    "\n",
    "DATA_PATH =  os.path.join(CURRENT_DIR, 'data')\n",
    "TRAIN_VIDEO = os.path.join(DATA_PATH, 'train.mp4')\n",
    "TEST_VIDEO = os.path.join(DATA_PATH, 'test.mp4')\n",
    "PREPARED_DATA_PATH = os.path.join(DATA_PATH, 'prepared-data')\n",
    "PREPARED_IMGS_TRAIN = os.path.join(PREPARED_DATA_PATH, 'train_imgs')\n",
    "FLOW_IMGS_TRAIN = os.path.join(PREPARED_DATA_PATH, 'flow_train_imgs')\n",
    "PREPARED_IMGS_TEST = os.path.join(PREPARED_DATA_PATH, 'test_imgs')\n",
    "FLOW_IMGS_TEST = os.path.join(PREPARED_DATA_PATH, 'flow_test_imgs')\n",
    "SAVES = os.path.join(CURRENT_DIR, 'saves')\n",
    "MODEL_SAVE_PATH = os.path.join(CURRENT_DIR, 'saves', str(VERSION), str(EPOCHS))\n",
    "WEIGHTS_PATH = os.path.join(MODEL_SAVE_PATH, 'weights.{epoch:02d}-{val_loss:.2f}.hdf5')\n",
    "HISTORY_PATH = os.path.join(MODEL_SAVE_PATH, 'history.p')\n",
    "TENSORBOARD = os.path.join(MODEL_SAVE_PATH, 'tensorboard')"
   ]
  },
  {
   "cell_type": "code",
   "execution_count": 18,
   "metadata": {},
   "outputs": [
    {
     "name": "stdout",
     "output_type": "stream",
     "text": [
      "shape:  (20399, 2)\n"
     ]
    }
   ],
   "source": [
    "# Create the save folder\n",
    "if not os.path.exists(MODEL_SAVE_PATH):\n",
    "    os.makedirs(MODEL_SAVE_PATH)\n",
    "\n",
    "train_meta = pd.read_csv(os.path.join(PREPARED_DATA_PATH, \"train_flow_meta.csv\"))\n",
    "print('shape: ', train_meta.shape)    "
   ]
  },
  {
   "cell_type": "code",
   "execution_count": 19,
   "metadata": {},
   "outputs": [
    {
     "data": {
      "text/html": [
       "<div>\n",
       "<style scoped>\n",
       "    .dataframe tbody tr th:only-of-type {\n",
       "        vertical-align: middle;\n",
       "    }\n",
       "\n",
       "    .dataframe tbody tr th {\n",
       "        vertical-align: top;\n",
       "    }\n",
       "\n",
       "    .dataframe thead th {\n",
       "        text-align: right;\n",
       "    }\n",
       "</style>\n",
       "<table border=\"1\" class=\"dataframe\">\n",
       "  <thead>\n",
       "    <tr style=\"text-align: right;\">\n",
       "      <th></th>\n",
       "      <th>flow_path</th>\n",
       "      <th>speed</th>\n",
       "    </tr>\n",
       "  </thead>\n",
       "  <tbody>\n",
       "    <tr>\n",
       "      <th>0</th>\n",
       "      <td>/home/ubuntu/repositories/speed-challenge/data...</td>\n",
       "      <td>28.105569</td>\n",
       "    </tr>\n",
       "    <tr>\n",
       "      <th>1</th>\n",
       "      <td>/home/ubuntu/repositories/speed-challenge/data...</td>\n",
       "      <td>28.106048</td>\n",
       "    </tr>\n",
       "    <tr>\n",
       "      <th>2</th>\n",
       "      <td>/home/ubuntu/repositories/speed-challenge/data...</td>\n",
       "      <td>28.118466</td>\n",
       "    </tr>\n",
       "    <tr>\n",
       "      <th>3</th>\n",
       "      <td>/home/ubuntu/repositories/speed-challenge/data...</td>\n",
       "      <td>28.119823</td>\n",
       "    </tr>\n",
       "    <tr>\n",
       "      <th>4</th>\n",
       "      <td>/home/ubuntu/repositories/speed-challenge/data...</td>\n",
       "      <td>28.098907</td>\n",
       "    </tr>\n",
       "  </tbody>\n",
       "</table>\n",
       "</div>"
      ],
      "text/plain": [
       "                                           flow_path      speed\n",
       "0  /home/ubuntu/repositories/speed-challenge/data...  28.105569\n",
       "1  /home/ubuntu/repositories/speed-challenge/data...  28.106048\n",
       "2  /home/ubuntu/repositories/speed-challenge/data...  28.118466\n",
       "3  /home/ubuntu/repositories/speed-challenge/data...  28.119823\n",
       "4  /home/ubuntu/repositories/speed-challenge/data...  28.098907"
      ]
     },
     "execution_count": 19,
     "metadata": {},
     "output_type": "execute_result"
    }
   ],
   "source": [
    "train_meta.head()"
   ]
  },
  {
   "cell_type": "code",
   "execution_count": 21,
   "metadata": {},
   "outputs": [
    {
     "name": "stderr",
     "output_type": "stream",
     "text": [
      "20399it [00:17, 1184.07it/s]\n"
     ]
    }
   ],
   "source": [
    "#Load the data\n",
    "X = np.empty((len(train_meta), HEIGHT, WIDTH, CHANNEL))\n",
    "Y = np.empty((len(train_meta), 1))\n",
    "for index, row in tqdm(train_meta.iterrows()):\n",
    "    frame = cv2.imread(row[\"flow_path\"])\n",
    "    frame = cv2.resize(frame, SIZE, interpolation=cv2.INTER_AREA)\n",
    "    #Normalize\n",
    "    frame = frame / 40\n",
    "    #Drop the useless channel\n",
    "    frame = frame[:,:,[1,2]]\n",
    "    X[index,:,:,:] = frame\n",
    "    Y[index] = row[\"speed\"]\n",
    "#Shuffle the data\n",
    "randomize = np.arange(len(train_meta))\n",
    "np.random.shuffle(randomize)\n",
    "X = X[randomize]\n",
    "Y = Y[randomize]"
   ]
  },
  {
   "cell_type": "code",
   "execution_count": 22,
   "metadata": {},
   "outputs": [
    {
     "name": "stdout",
     "output_type": "stream",
     "text": [
      "(20399, 100, 100, 2)\n",
      "(20399, 1)\n"
     ]
    }
   ],
   "source": [
    "print(X.shape)\n",
    "print(Y.shape)"
   ]
  },
  {
   "cell_type": "code",
   "execution_count": 23,
   "metadata": {},
   "outputs": [
    {
     "name": "stdout",
     "output_type": "stream",
     "text": [
      "_________________________________________________________________\n",
      "Layer (type)                 Output Shape              Param #   \n",
      "=================================================================\n",
      "conv1 (Conv2D)               (None, 48, 48, 24)        1224      \n",
      "_________________________________________________________________\n",
      "elu_1 (ELU)                  (None, 48, 48, 24)        0         \n",
      "_________________________________________________________________\n",
      "conv2 (Conv2D)               (None, 22, 22, 36)        21636     \n",
      "_________________________________________________________________\n",
      "elu_2 (ELU)                  (None, 22, 22, 36)        0         \n",
      "_________________________________________________________________\n",
      "conv3 (Conv2D)               (None, 9, 9, 48)          43248     \n",
      "_________________________________________________________________\n",
      "elu_3 (ELU)                  (None, 9, 9, 48)          0         \n",
      "_________________________________________________________________\n",
      "dropout_1 (Dropout)          (None, 9, 9, 48)          0         \n",
      "_________________________________________________________________\n",
      "conv4 (Conv2D)               (None, 7, 7, 64)          27712     \n",
      "_________________________________________________________________\n",
      "elu_4 (ELU)                  (None, 7, 7, 64)          0         \n",
      "_________________________________________________________________\n",
      "conv5 (Conv2D)               (None, 5, 5, 64)          36928     \n",
      "_________________________________________________________________\n",
      "flatten (Flatten)            (None, 1600)              0         \n",
      "_________________________________________________________________\n",
      "dropout_2 (Dropout)          (None, 1600)              0         \n",
      "_________________________________________________________________\n",
      "elu_5 (ELU)                  (None, 1600)              0         \n",
      "_________________________________________________________________\n",
      "fc1 (Dense)                  (None, 100)               160100    \n",
      "_________________________________________________________________\n",
      "dropout_3 (Dropout)          (None, 100)               0         \n",
      "_________________________________________________________________\n",
      "elu_6 (ELU)                  (None, 100)               0         \n",
      "_________________________________________________________________\n",
      "fc2 (Dense)                  (None, 50)                5050      \n",
      "_________________________________________________________________\n",
      "dropout_4 (Dropout)          (None, 50)                0         \n",
      "_________________________________________________________________\n",
      "elu_7 (ELU)                  (None, 50)                0         \n",
      "_________________________________________________________________\n",
      "fc3 (Dense)                  (None, 10)                510       \n",
      "_________________________________________________________________\n",
      "elu_8 (ELU)                  (None, 10)                0         \n",
      "_________________________________________________________________\n",
      "output (Dense)               (None, 1)                 11        \n",
      "=================================================================\n",
      "Total params: 296,419\n",
      "Trainable params: 296,419\n",
      "Non-trainable params: 0\n",
      "_________________________________________________________________\n"
     ]
    }
   ],
   "source": [
    "modelCheckpoint = ModelCheckpoint(WEIGHTS_PATH,\n",
    "                                      monitor='val_loss',\n",
    "                                      save_best_only=False,\n",
    "                                      mode='min',\n",
    "                                      verbose=1,\n",
    "                                      save_weights_only=True)\n",
    "\n",
    "tensorboard = TensorBoard(log_dir=TENSORBOARD, histogram_freq=0,\n",
    "                              write_graph=True, write_images=True)\n",
    "\n",
    "callbacks_list = [modelCheckpoint, tensorboard]\n",
    "\n",
    "\n",
    "model = build_model(HEIGHT, WIDTH, CHANNEL)\n",
    "\n",
    "\n",
    "model.summary()"
   ]
  },
  {
   "cell_type": "code",
   "execution_count": 25,
   "metadata": {},
   "outputs": [
    {
     "name": "stdout",
     "output_type": "stream",
     "text": [
      "Train on 14279 samples, validate on 6120 samples\n",
      "Epoch 1/40\n",
      "14279/14279 [==============================] - 12s 822us/step - loss: 49.7818 - val_loss: 14.8037\n",
      "\n",
      "Epoch 00001: saving model to /home/ubuntu/repositories/speed-challenge/saves/2/40/weights.01-14.80.hdf5\n",
      "Epoch 2/40\n",
      "14279/14279 [==============================] - 10s 729us/step - loss: 27.1256 - val_loss: 10.3375\n",
      "\n",
      "Epoch 00002: saving model to /home/ubuntu/repositories/speed-challenge/saves/2/40/weights.02-10.34.hdf5\n",
      "Epoch 3/40\n",
      "14279/14279 [==============================] - 10s 728us/step - loss: 21.2270 - val_loss: 8.9068\n",
      "\n",
      "Epoch 00003: saving model to /home/ubuntu/repositories/speed-challenge/saves/2/40/weights.03-8.91.hdf5\n",
      "Epoch 4/40\n",
      "14279/14279 [==============================] - 10s 730us/step - loss: 18.8293 - val_loss: 12.9062\n",
      "\n",
      "Epoch 00004: saving model to /home/ubuntu/repositories/speed-challenge/saves/2/40/weights.04-12.91.hdf5\n",
      "Epoch 5/40\n",
      "14279/14279 [==============================] - 10s 730us/step - loss: 16.9139 - val_loss: 10.2739\n",
      "\n",
      "Epoch 00005: saving model to /home/ubuntu/repositories/speed-challenge/saves/2/40/weights.05-10.27.hdf5\n",
      "Epoch 6/40\n",
      "14279/14279 [==============================] - 10s 730us/step - loss: 15.4492 - val_loss: 7.9335\n",
      "\n",
      "Epoch 00006: saving model to /home/ubuntu/repositories/speed-challenge/saves/2/40/weights.06-7.93.hdf5\n",
      "Epoch 7/40\n",
      " 1824/14279 [==>...........................] - ETA: 7s - loss: 14.7926"
     ]
    },
    {
     "ename": "KeyboardInterrupt",
     "evalue": "",
     "output_type": "error",
     "traceback": [
      "\u001b[0;31m---------------------------------------------------------------------------\u001b[0m",
      "\u001b[0;31mKeyboardInterrupt\u001b[0m                         Traceback (most recent call last)",
      "\u001b[0;32m<ipython-input-25-39ca160e8fc9>\u001b[0m in \u001b[0;36m<module>\u001b[0;34m()\u001b[0m\n\u001b[1;32m      6\u001b[0m         \u001b[0mcallbacks\u001b[0m\u001b[0;34m=\u001b[0m\u001b[0mcallbacks_list\u001b[0m\u001b[0;34m,\u001b[0m\u001b[0;34m\u001b[0m\u001b[0m\n\u001b[1;32m      7\u001b[0m         \u001b[0mverbose\u001b[0m\u001b[0;34m=\u001b[0m\u001b[0;36m1\u001b[0m\u001b[0;34m,\u001b[0m\u001b[0;34m\u001b[0m\u001b[0m\n\u001b[0;32m----> 8\u001b[0;31m         validation_split=0.3)\n\u001b[0m\u001b[1;32m      9\u001b[0m \u001b[0;34m\u001b[0m\u001b[0m\n\u001b[1;32m     10\u001b[0m \u001b[0mpickle\u001b[0m\u001b[0;34m.\u001b[0m\u001b[0mdump\u001b[0m\u001b[0;34m(\u001b[0m\u001b[0mhistory\u001b[0m\u001b[0;34m.\u001b[0m\u001b[0mhistory\u001b[0m\u001b[0;34m,\u001b[0m \u001b[0mopen\u001b[0m\u001b[0;34m(\u001b[0m\u001b[0mHISTORY_PATH\u001b[0m\u001b[0;34m,\u001b[0m \u001b[0;34m\"wb\"\u001b[0m\u001b[0;34m)\u001b[0m\u001b[0;34m)\u001b[0m\u001b[0;34m\u001b[0m\u001b[0m\n",
      "\u001b[0;32m~/anaconda3/envs/tensorflow_p36/lib/python3.6/site-packages/keras/engine/training.py\u001b[0m in \u001b[0;36mfit\u001b[0;34m(self, x, y, batch_size, epochs, verbose, callbacks, validation_split, validation_data, shuffle, class_weight, sample_weight, initial_epoch, steps_per_epoch, validation_steps, **kwargs)\u001b[0m\n\u001b[1;32m   1037\u001b[0m                                         \u001b[0minitial_epoch\u001b[0m\u001b[0;34m=\u001b[0m\u001b[0minitial_epoch\u001b[0m\u001b[0;34m,\u001b[0m\u001b[0;34m\u001b[0m\u001b[0m\n\u001b[1;32m   1038\u001b[0m                                         \u001b[0msteps_per_epoch\u001b[0m\u001b[0;34m=\u001b[0m\u001b[0msteps_per_epoch\u001b[0m\u001b[0;34m,\u001b[0m\u001b[0;34m\u001b[0m\u001b[0m\n\u001b[0;32m-> 1039\u001b[0;31m                                         validation_steps=validation_steps)\n\u001b[0m\u001b[1;32m   1040\u001b[0m \u001b[0;34m\u001b[0m\u001b[0m\n\u001b[1;32m   1041\u001b[0m     def evaluate(self, x=None, y=None,\n",
      "\u001b[0;32m~/anaconda3/envs/tensorflow_p36/lib/python3.6/site-packages/keras/engine/training_arrays.py\u001b[0m in \u001b[0;36mfit_loop\u001b[0;34m(model, f, ins, out_labels, batch_size, epochs, verbose, callbacks, val_f, val_ins, shuffle, callback_metrics, initial_epoch, steps_per_epoch, validation_steps)\u001b[0m\n\u001b[1;32m    197\u001b[0m                     \u001b[0mins_batch\u001b[0m\u001b[0;34m[\u001b[0m\u001b[0mi\u001b[0m\u001b[0;34m]\u001b[0m \u001b[0;34m=\u001b[0m \u001b[0mins_batch\u001b[0m\u001b[0;34m[\u001b[0m\u001b[0mi\u001b[0m\u001b[0;34m]\u001b[0m\u001b[0;34m.\u001b[0m\u001b[0mtoarray\u001b[0m\u001b[0;34m(\u001b[0m\u001b[0;34m)\u001b[0m\u001b[0;34m\u001b[0m\u001b[0m\n\u001b[1;32m    198\u001b[0m \u001b[0;34m\u001b[0m\u001b[0m\n\u001b[0;32m--> 199\u001b[0;31m                 \u001b[0mouts\u001b[0m \u001b[0;34m=\u001b[0m \u001b[0mf\u001b[0m\u001b[0;34m(\u001b[0m\u001b[0mins_batch\u001b[0m\u001b[0;34m)\u001b[0m\u001b[0;34m\u001b[0m\u001b[0m\n\u001b[0m\u001b[1;32m    200\u001b[0m                 \u001b[0mouts\u001b[0m \u001b[0;34m=\u001b[0m \u001b[0mto_list\u001b[0m\u001b[0;34m(\u001b[0m\u001b[0mouts\u001b[0m\u001b[0;34m)\u001b[0m\u001b[0;34m\u001b[0m\u001b[0m\n\u001b[1;32m    201\u001b[0m                 \u001b[0;32mfor\u001b[0m \u001b[0ml\u001b[0m\u001b[0;34m,\u001b[0m \u001b[0mo\u001b[0m \u001b[0;32min\u001b[0m \u001b[0mzip\u001b[0m\u001b[0;34m(\u001b[0m\u001b[0mout_labels\u001b[0m\u001b[0;34m,\u001b[0m \u001b[0mouts\u001b[0m\u001b[0;34m)\u001b[0m\u001b[0;34m:\u001b[0m\u001b[0;34m\u001b[0m\u001b[0m\n",
      "\u001b[0;32m~/anaconda3/envs/tensorflow_p36/lib/python3.6/site-packages/keras/backend/tensorflow_backend.py\u001b[0m in \u001b[0;36m__call__\u001b[0;34m(self, inputs)\u001b[0m\n\u001b[1;32m   2713\u001b[0m                 \u001b[0;32mreturn\u001b[0m \u001b[0mself\u001b[0m\u001b[0;34m.\u001b[0m\u001b[0m_legacy_call\u001b[0m\u001b[0;34m(\u001b[0m\u001b[0minputs\u001b[0m\u001b[0;34m)\u001b[0m\u001b[0;34m\u001b[0m\u001b[0m\n\u001b[1;32m   2714\u001b[0m \u001b[0;34m\u001b[0m\u001b[0m\n\u001b[0;32m-> 2715\u001b[0;31m             \u001b[0;32mreturn\u001b[0m \u001b[0mself\u001b[0m\u001b[0;34m.\u001b[0m\u001b[0m_call\u001b[0m\u001b[0;34m(\u001b[0m\u001b[0minputs\u001b[0m\u001b[0;34m)\u001b[0m\u001b[0;34m\u001b[0m\u001b[0m\n\u001b[0m\u001b[1;32m   2716\u001b[0m         \u001b[0;32melse\u001b[0m\u001b[0;34m:\u001b[0m\u001b[0;34m\u001b[0m\u001b[0m\n\u001b[1;32m   2717\u001b[0m             \u001b[0;32mif\u001b[0m \u001b[0mpy_any\u001b[0m\u001b[0;34m(\u001b[0m\u001b[0mis_tensor\u001b[0m\u001b[0;34m(\u001b[0m\u001b[0mx\u001b[0m\u001b[0;34m)\u001b[0m \u001b[0;32mfor\u001b[0m \u001b[0mx\u001b[0m \u001b[0;32min\u001b[0m \u001b[0minputs\u001b[0m\u001b[0;34m)\u001b[0m\u001b[0;34m:\u001b[0m\u001b[0;34m\u001b[0m\u001b[0m\n",
      "\u001b[0;32m~/anaconda3/envs/tensorflow_p36/lib/python3.6/site-packages/keras/backend/tensorflow_backend.py\u001b[0m in \u001b[0;36m_call\u001b[0;34m(self, inputs)\u001b[0m\n\u001b[1;32m   2653\u001b[0m                 array_vals.append(\n\u001b[1;32m   2654\u001b[0m                     np.asarray(value,\n\u001b[0;32m-> 2655\u001b[0;31m                                dtype=tf.as_dtype(tensor.dtype).as_numpy_dtype))\n\u001b[0m\u001b[1;32m   2656\u001b[0m         \u001b[0;32mif\u001b[0m \u001b[0mself\u001b[0m\u001b[0;34m.\u001b[0m\u001b[0mfeed_dict\u001b[0m\u001b[0;34m:\u001b[0m\u001b[0;34m\u001b[0m\u001b[0m\n\u001b[1;32m   2657\u001b[0m             \u001b[0;32mfor\u001b[0m \u001b[0mkey\u001b[0m \u001b[0;32min\u001b[0m \u001b[0msorted\u001b[0m\u001b[0;34m(\u001b[0m\u001b[0mself\u001b[0m\u001b[0;34m.\u001b[0m\u001b[0mfeed_dict\u001b[0m\u001b[0;34m.\u001b[0m\u001b[0mkeys\u001b[0m\u001b[0;34m(\u001b[0m\u001b[0;34m)\u001b[0m\u001b[0;34m)\u001b[0m\u001b[0;34m:\u001b[0m\u001b[0;34m\u001b[0m\u001b[0m\n",
      "\u001b[0;32m~/anaconda3/envs/tensorflow_p36/lib/python3.6/site-packages/numpy/core/numeric.py\u001b[0m in \u001b[0;36masarray\u001b[0;34m(a, dtype, order)\u001b[0m\n\u001b[1;32m    490\u001b[0m \u001b[0;34m\u001b[0m\u001b[0m\n\u001b[1;32m    491\u001b[0m     \"\"\"\n\u001b[0;32m--> 492\u001b[0;31m     \u001b[0;32mreturn\u001b[0m \u001b[0marray\u001b[0m\u001b[0;34m(\u001b[0m\u001b[0ma\u001b[0m\u001b[0;34m,\u001b[0m \u001b[0mdtype\u001b[0m\u001b[0;34m,\u001b[0m \u001b[0mcopy\u001b[0m\u001b[0;34m=\u001b[0m\u001b[0;32mFalse\u001b[0m\u001b[0;34m,\u001b[0m \u001b[0morder\u001b[0m\u001b[0;34m=\u001b[0m\u001b[0morder\u001b[0m\u001b[0;34m)\u001b[0m\u001b[0;34m\u001b[0m\u001b[0m\n\u001b[0m\u001b[1;32m    493\u001b[0m \u001b[0;34m\u001b[0m\u001b[0m\n\u001b[1;32m    494\u001b[0m \u001b[0;34m\u001b[0m\u001b[0m\n",
      "\u001b[0;31mKeyboardInterrupt\u001b[0m: "
     ]
    }
   ],
   "source": [
    "history = model.fit(\n",
    "        X,\n",
    "        Y,\n",
    "        batch_size=MINI_BATCH_SIZE,\n",
    "        epochs=EPOCHS,\n",
    "        callbacks=callbacks_list,\n",
    "        verbose=1,\n",
    "        validation_split=0.3)\n",
    "\n",
    "pickle.dump(history.history, open(HISTORY_PATH, \"wb\"))"
   ]
  },
  {
   "cell_type": "code",
   "execution_count": null,
   "metadata": {},
   "outputs": [],
   "source": []
  },
  {
   "cell_type": "code",
   "execution_count": null,
   "metadata": {},
   "outputs": [],
   "source": []
  }
 ],
 "metadata": {
  "kernelspec": {
   "display_name": "Python [conda env:tensorflow_p36]",
   "language": "python",
   "name": "conda-env-tensorflow_p36-py"
  },
  "language_info": {
   "codemirror_mode": {
    "name": "ipython",
    "version": 3
   },
   "file_extension": ".py",
   "mimetype": "text/x-python",
   "name": "python",
   "nbconvert_exporter": "python",
   "pygments_lexer": "ipython3",
   "version": "3.6.5"
  }
 },
 "nbformat": 4,
 "nbformat_minor": 2
}
